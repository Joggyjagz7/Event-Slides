{
  "nbformat": 4,
  "nbformat_minor": 0,
  "metadata": {
    "kernelspec": {
      "display_name": "Python 3",
      "language": "python",
      "name": "python3"
    },
    "language_info": {
      "codemirror_mode": {
        "name": "ipython",
        "version": 3
      },
      "file_extension": ".py",
      "mimetype": "text/x-python",
      "name": "python",
      "nbconvert_exporter": "python",
      "pygments_lexer": "ipython3",
      "version": "3.6.5"
    },
    "colab": {
      "name": "DevFestIkorodu2019.ipynb",
      "provenance": []
    }
  },
  "cells": [
    {
      "cell_type": "markdown",
      "metadata": {
        "id": "P0hH-5_VZXt8",
        "colab_type": "text"
      },
      "source": [
        ""
      ]
    },
    {
      "cell_type": "markdown",
      "metadata": {
        "id": "dwZR7RPvZXt9",
        "colab_type": "text"
      },
      "source": [
        "# Introduction to Tensorflow and Tensorflow lite Workshop"
      ]
    },
    {
      "cell_type": "markdown",
      "metadata": {
        "id": "QPBtJ-zcZXt-",
        "colab_type": "text"
      },
      "source": [
        "## What is Tensorflow?\n",
        "\n",
        "**TensorFlow is an end-to-end open source platform for machine learning with a comprehensive, flexible ecosystem of tools, libraries and community resources.**\n",
        "\n",
        "\n",
        " \n",
        " "
      ]
    },
    {
      "cell_type": "markdown",
      "metadata": {
        "id": "2R0J12DuZXt_",
        "colab_type": "text"
      },
      "source": [
        "# TensorFlow basics"
      ]
    },
    {
      "cell_type": "code",
      "metadata": {
        "id": "pg6o4U_6a-nt",
        "colab_type": "code",
        "colab": {}
      },
      "source": [
        "try:\n",
        "    %tensorflow_version 2.x\n",
        "except:\n",
        "    pass"
      ],
      "execution_count": 0,
      "outputs": []
    },
    {
      "cell_type": "code",
      "metadata": {
        "id": "xAloUA79bTGM",
        "colab_type": "code",
        "colab": {
          "base_uri": "https://localhost:8080/",
          "height": 35
        },
        "outputId": "0777a806-b393-4456-f001-cd9920ce58a6"
      },
      "source": [
        "from __future__ import absolute_import, division, print_function, unicode_literals\n",
        "\n",
        "# TensorFlow and tf.keras\n",
        "import tensorflow as tf\n",
        "from tensorflow import keras\n",
        "\n",
        "# Helper libraries\n",
        "import numpy as np\n",
        "import matplotlib.pyplot as plt\n",
        "import pathlib\n",
        "\n",
        "\n",
        "print(tf.__version__)"
      ],
      "execution_count": 4,
      "outputs": [
        {
          "output_type": "stream",
          "text": [
            "2.0.0\n"
          ],
          "name": "stdout"
        }
      ]
    },
    {
      "cell_type": "markdown",
      "metadata": {
        "id": "WQJQweN8ZXuB",
        "colab_type": "text"
      },
      "source": [
        "Tensorflow has different variation of tensors\n",
        ".constant,\n",
        ".random .\n"
      ]
    },
    {
      "cell_type": "code",
      "metadata": {
        "id": "GfA93ZqUZXuC",
        "colab_type": "code",
        "colab": {
          "base_uri": "https://localhost:8080/",
          "height": 69
        },
        "outputId": "85eb60fb-3d5f-436a-8235-fa51708ba85c"
      },
      "source": [
        "#constant tensor\n",
        "x = tf.constant([[1, 2], [3, 4]])\n",
        "print(x)"
      ],
      "execution_count": 5,
      "outputs": [
        {
          "output_type": "stream",
          "text": [
            "tf.Tensor(\n",
            "[[1 2]\n",
            " [3 4]], shape=(2, 2), dtype=int32)\n"
          ],
          "name": "stdout"
        }
      ]
    },
    {
      "cell_type": "markdown",
      "metadata": {
        "id": "2IZR9I73ZXuH",
        "colab_type": "text"
      },
      "source": [
        "Another way constant tensors are created using `tf.ones` and `tf.zeroes`"
      ]
    },
    {
      "cell_type": "code",
      "metadata": {
        "id": "l_LBjKd8ZXuI",
        "colab_type": "code",
        "colab": {
          "base_uri": "https://localhost:8080/",
          "height": 121
        },
        "outputId": "b755bb01-6c5d-4809-d0b0-c6e59244ef82"
      },
      "source": [
        "print(tf.ones(shape=(2, 1)))\n",
        "print(tf.zeros(shape=(2, 1)))"
      ],
      "execution_count": 6,
      "outputs": [
        {
          "output_type": "stream",
          "text": [
            "tf.Tensor(\n",
            "[[1.]\n",
            " [1.]], shape=(2, 1), dtype=float32)\n",
            "tf.Tensor(\n",
            "[[0.]\n",
            " [0.]], shape=(2, 1), dtype=float32)\n"
          ],
          "name": "stdout"
        }
      ]
    },
    {
      "cell_type": "code",
      "metadata": {
        "id": "vOrZD6aAZXuL",
        "colab_type": "code",
        "colab": {
          "base_uri": "https://localhost:8080/",
          "height": 87
        },
        "outputId": "2433b06e-327e-4e87-f7ed-af762b75fc69"
      },
      "source": [
        "#You can declare a random tensor by:\n",
        "\n",
        "tf.random.normal(shape=(3, 3), mean=0., stddev=1.)\n"
      ],
      "execution_count": 7,
      "outputs": [
        {
          "output_type": "execute_result",
          "data": {
            "text/plain": [
              "<tf.Tensor: id=12, shape=(3, 3), dtype=float32, numpy=\n",
              "array([[ 0.92151266, -1.6761822 ,  0.06845541],\n",
              "       [ 1.0399439 ,  2.407184  ,  0.26581106],\n",
              "       [ 0.93184406, -0.11953061, -0.70880646]], dtype=float32)>"
            ]
          },
          "metadata": {
            "tags": []
          },
          "execution_count": 7
        }
      ]
    },
    {
      "cell_type": "code",
      "metadata": {
        "id": "VJHk9wYCZXuP",
        "colab_type": "code",
        "colab": {
          "base_uri": "https://localhost:8080/",
          "height": 69
        },
        "outputId": "e3232ce5-196e-4295-910f-4fc55ff5a8de"
      },
      "source": [
        "#random uniform tensor\n",
        "\n",
        "tf.random.uniform(shape=(2, 2), minval=0, maxval=10, dtype='int32')"
      ],
      "execution_count": 7,
      "outputs": [
        {
          "output_type": "execute_result",
          "data": {
            "text/plain": [
              "<tf.Tensor: id=16, shape=(2, 2), dtype=int32, numpy=\n",
              "array([[3, 5],\n",
              "       [4, 5]], dtype=int32)>"
            ]
          },
          "metadata": {
            "tags": []
          },
          "execution_count": 7
        }
      ]
    },
    {
      "cell_type": "markdown",
      "metadata": {
        "id": "4EFS0XJlZXuS",
        "colab_type": "text"
      },
      "source": [
        "## Variables\n",
        "\n",
        "Variables are special tensors used to store mutable state (like the weights of a neural network). You create a Variable using some initial value."
      ]
    },
    {
      "cell_type": "code",
      "metadata": {
        "id": "dwEMnHOMZXuT",
        "colab_type": "code",
        "colab": {
          "base_uri": "https://localhost:8080/",
          "height": 69
        },
        "outputId": "55942fa9-dd27-4fe2-bc70-283a4ea11752"
      },
      "source": [
        "initial_value = tf.random.normal(shape=(2, 2))\n",
        "v = tf.Variable(initial_value)\n",
        "print(v)"
      ],
      "execution_count": 8,
      "outputs": [
        {
          "output_type": "stream",
          "text": [
            "<tf.Variable 'Variable:0' shape=(2, 2) dtype=float32, numpy=\n",
            "array([[ 1.3115387 , -0.2584394 ],\n",
            "       [ 0.18615824,  1.382142  ]], dtype=float32)>\n"
          ],
          "name": "stdout"
        }
      ]
    },
    {
      "cell_type": "markdown",
      "metadata": {
        "id": "WSEd7ISeZXuW",
        "colab_type": "text"
      },
      "source": [
        "You update the value of a Variable by using the methods `assign(value)`, or `assign_add(increment)` or `assign_sub(decrement)`:"
      ]
    },
    {
      "cell_type": "code",
      "metadata": {
        "id": "m7mx-QkTZXuX",
        "colab_type": "code",
        "colab": {}
      },
      "source": [
        "new_value = tf.random.normal(shape=(2, 2))\n",
        "v.assign(new_value)\n",
        "for i in range(2):\n",
        "  for j in range(2):\n",
        "    assert v[i, j] == new_value[i, j]"
      ],
      "execution_count": 0,
      "outputs": []
    },
    {
      "cell_type": "code",
      "metadata": {
        "id": "32_6XU8UZXub",
        "colab_type": "code",
        "colab": {}
      },
      "source": [
        "added_value = tf.random.normal(shape=(2, 2))\n",
        "v.assign_add(added_value)\n",
        "for i in range(2):\n",
        "  for j in range(2):\n",
        "    assert v[i, j] == new_value[i, j] + added_value[i, j]"
      ],
      "execution_count": 0,
      "outputs": []
    },
    {
      "cell_type": "markdown",
      "metadata": {
        "id": "YHZPi9AeZXuh",
        "colab_type": "text"
      },
      "source": [
        "## MAT 101: Tensorflow Arthmetics "
      ]
    },
    {
      "cell_type": "markdown",
      "metadata": {
        "id": "IGqjxva6ZXuj",
        "colab_type": "text"
      },
      "source": [
        "Simple math, as well as complex math can be done using tensorflow.\n",
        "Let's see a few"
      ]
    },
    {
      "cell_type": "markdown",
      "metadata": {
        "id": "Ov7Qey2pZXuk",
        "colab_type": "text"
      },
      "source": [
        "### Addition and Subtraction"
      ]
    },
    {
      "cell_type": "code",
      "metadata": {
        "id": "YcpHe-BvZXul",
        "colab_type": "code",
        "colab": {}
      },
      "source": [
        "a = tf.random.normal(shape=(2, 2))\n",
        "b = tf.random.normal(shape=(2, 2))\n",
        "\n",
        "c = a + b\n",
        "d = tf.square(c)\n",
        "e = tf.exp(d)"
      ],
      "execution_count": 0,
      "outputs": []
    },
    {
      "cell_type": "code",
      "metadata": {
        "id": "B82kR7-uZXuo",
        "colab_type": "code",
        "colab": {
          "base_uri": "https://localhost:8080/",
          "height": 277
        },
        "outputId": "ca1922e6-d5ae-4fd1-8ee4-174741714bd9"
      },
      "source": [
        "print(\"a\", a)\n",
        "print(\"b\", b)\n",
        "print(\"c\", c)\n",
        "print(\"d\", d)\n",
        "print(\"e\", e)"
      ],
      "execution_count": 12,
      "outputs": [
        {
          "output_type": "stream",
          "text": [
            "a tf.Tensor(\n",
            "[[ 1.0364131e-03 -9.6974921e-01]\n",
            " [-2.0420582e+00 -4.9199268e-01]], shape=(2, 2), dtype=float32)\n",
            "b tf.Tensor(\n",
            "[[-0.15349092 -0.13893835]\n",
            " [-0.807484   -0.4876446 ]], shape=(2, 2), dtype=float32)\n",
            "c tf.Tensor(\n",
            "[[-0.1524545  -1.1086875 ]\n",
            " [-2.8495421  -0.97963727]], shape=(2, 2), dtype=float32)\n",
            "d tf.Tensor(\n",
            "[[0.02324237 1.229188  ]\n",
            " [8.11989    0.9596892 ]], shape=(2, 2), dtype=float32)\n",
            "e tf.Tensor(\n",
            "[[1.0235146e+00 3.4184525e+00]\n",
            " [3.3606519e+03 2.6108849e+00]], shape=(2, 2), dtype=float32)\n"
          ],
          "name": "stdout"
        }
      ]
    },
    {
      "cell_type": "markdown",
      "metadata": {
        "id": "J8q62Yg9ZXur",
        "colab_type": "text"
      },
      "source": [
        "### Basic model of form y = mx + c"
      ]
    },
    {
      "cell_type": "code",
      "metadata": {
        "id": "eEs-RO1PZXus",
        "colab_type": "code",
        "colab": {
          "base_uri": "https://localhost:8080/",
          "height": 1000
        },
        "outputId": "118f843c-20de-4625-a739-14a3fae313b9"
      },
      "source": [
        "# Create a simple Keras model.\n",
        "x = [-1, 0, 1, 2, 3, 4]\n",
        "y = [-3, -1, 1, 3, 5, 7]\n",
        "\n",
        "model = tf.keras.models.Sequential([\n",
        "    tf.keras.layers.Dense(units=1, input_shape=[1])\n",
        "])\n",
        "model.compile(optimizer='sgd', loss='mean_squared_error')\n",
        "model.fit(x, y, epochs=200, verbose=1)"
      ],
      "execution_count": 13,
      "outputs": [
        {
          "output_type": "stream",
          "text": [
            "Train on 6 samples\n",
            "Epoch 1/200\n",
            "6/6 [==============================] - 1s 125ms/sample - loss: 23.0307\n",
            "Epoch 2/200\n",
            "6/6 [==============================] - 0s 2ms/sample - loss: 18.4005\n",
            "Epoch 3/200\n",
            "6/6 [==============================] - 0s 2ms/sample - loss: 14.7519\n",
            "Epoch 4/200\n",
            "6/6 [==============================] - 0s 2ms/sample - loss: 11.8757\n",
            "Epoch 5/200\n",
            "6/6 [==============================] - 0s 2ms/sample - loss: 9.6074\n",
            "Epoch 6/200\n",
            "6/6 [==============================] - 0s 1ms/sample - loss: 7.8173\n",
            "Epoch 7/200\n",
            "6/6 [==============================] - 0s 2ms/sample - loss: 6.4036\n",
            "Epoch 8/200\n",
            "6/6 [==============================] - 0s 2ms/sample - loss: 5.2862\n",
            "Epoch 9/200\n",
            "6/6 [==============================] - 0s 2ms/sample - loss: 4.4020\n",
            "Epoch 10/200\n",
            "6/6 [==============================] - 0s 2ms/sample - loss: 3.7014\n",
            "Epoch 11/200\n",
            "6/6 [==============================] - 0s 2ms/sample - loss: 3.1452\n",
            "Epoch 12/200\n",
            "6/6 [==============================] - 0s 2ms/sample - loss: 2.7029\n",
            "Epoch 13/200\n",
            "6/6 [==============================] - 0s 2ms/sample - loss: 2.3502\n",
            "Epoch 14/200\n",
            "6/6 [==============================] - 0s 2ms/sample - loss: 2.0681\n",
            "Epoch 15/200\n",
            "6/6 [==============================] - 0s 1ms/sample - loss: 1.8417\n",
            "Epoch 16/200\n",
            "6/6 [==============================] - 0s 1ms/sample - loss: 1.6592\n",
            "Epoch 17/200\n",
            "6/6 [==============================] - 0s 1ms/sample - loss: 1.5112\n",
            "Epoch 18/200\n",
            "6/6 [==============================] - 0s 1ms/sample - loss: 1.3906\n",
            "Epoch 19/200\n",
            "6/6 [==============================] - 0s 2ms/sample - loss: 1.2916\n",
            "Epoch 20/200\n",
            "6/6 [==============================] - 0s 2ms/sample - loss: 1.2096\n",
            "Epoch 21/200\n",
            "6/6 [==============================] - 0s 2ms/sample - loss: 1.1411\n",
            "Epoch 22/200\n",
            "6/6 [==============================] - 0s 2ms/sample - loss: 1.0834\n",
            "Epoch 23/200\n",
            "6/6 [==============================] - 0s 2ms/sample - loss: 1.0341\n",
            "Epoch 24/200\n",
            "6/6 [==============================] - 0s 2ms/sample - loss: 0.9916\n",
            "Epoch 25/200\n",
            "6/6 [==============================] - 0s 2ms/sample - loss: 0.9546\n",
            "Epoch 26/200\n",
            "6/6 [==============================] - 0s 2ms/sample - loss: 0.9218\n",
            "Epoch 27/200\n",
            "6/6 [==============================] - 0s 2ms/sample - loss: 0.8925\n",
            "Epoch 28/200\n",
            "6/6 [==============================] - 0s 2ms/sample - loss: 0.8660\n",
            "Epoch 29/200\n",
            "6/6 [==============================] - 0s 2ms/sample - loss: 0.8419\n",
            "Epoch 30/200\n",
            "6/6 [==============================] - 0s 2ms/sample - loss: 0.8195\n",
            "Epoch 31/200\n",
            "6/6 [==============================] - 0s 2ms/sample - loss: 0.7987\n",
            "Epoch 32/200\n",
            "6/6 [==============================] - 0s 2ms/sample - loss: 0.7792\n",
            "Epoch 33/200\n",
            "6/6 [==============================] - 0s 2ms/sample - loss: 0.7607\n",
            "Epoch 34/200\n",
            "6/6 [==============================] - 0s 1ms/sample - loss: 0.7432\n",
            "Epoch 35/200\n",
            "6/6 [==============================] - 0s 2ms/sample - loss: 0.7264\n",
            "Epoch 36/200\n",
            "6/6 [==============================] - 0s 2ms/sample - loss: 0.7103\n",
            "Epoch 37/200\n",
            "6/6 [==============================] - 0s 2ms/sample - loss: 0.6948\n",
            "Epoch 38/200\n",
            "6/6 [==============================] - 0s 2ms/sample - loss: 0.6797\n",
            "Epoch 39/200\n",
            "6/6 [==============================] - 0s 2ms/sample - loss: 0.6652\n",
            "Epoch 40/200\n",
            "6/6 [==============================] - 0s 2ms/sample - loss: 0.6511\n",
            "Epoch 41/200\n",
            "6/6 [==============================] - 0s 2ms/sample - loss: 0.6373\n",
            "Epoch 42/200\n",
            "6/6 [==============================] - 0s 2ms/sample - loss: 0.6240\n",
            "Epoch 43/200\n",
            "6/6 [==============================] - 0s 2ms/sample - loss: 0.6109\n",
            "Epoch 44/200\n",
            "6/6 [==============================] - 0s 1ms/sample - loss: 0.5982\n",
            "Epoch 45/200\n",
            "6/6 [==============================] - 0s 2ms/sample - loss: 0.5858\n",
            "Epoch 46/200\n",
            "6/6 [==============================] - 0s 2ms/sample - loss: 0.5736\n",
            "Epoch 47/200\n",
            "6/6 [==============================] - 0s 2ms/sample - loss: 0.5618\n",
            "Epoch 48/200\n",
            "6/6 [==============================] - 0s 2ms/sample - loss: 0.5502\n",
            "Epoch 49/200\n",
            "6/6 [==============================] - 0s 2ms/sample - loss: 0.5388\n",
            "Epoch 50/200\n",
            "6/6 [==============================] - 0s 2ms/sample - loss: 0.5277\n",
            "Epoch 51/200\n",
            "6/6 [==============================] - 0s 2ms/sample - loss: 0.5168\n",
            "Epoch 52/200\n",
            "6/6 [==============================] - 0s 2ms/sample - loss: 0.5062\n",
            "Epoch 53/200\n",
            "6/6 [==============================] - 0s 2ms/sample - loss: 0.4958\n",
            "Epoch 54/200\n",
            "6/6 [==============================] - 0s 2ms/sample - loss: 0.4856\n",
            "Epoch 55/200\n",
            "6/6 [==============================] - 0s 2ms/sample - loss: 0.4756\n",
            "Epoch 56/200\n",
            "6/6 [==============================] - 0s 2ms/sample - loss: 0.4658\n",
            "Epoch 57/200\n",
            "6/6 [==============================] - 0s 2ms/sample - loss: 0.4562\n",
            "Epoch 58/200\n",
            "6/6 [==============================] - 0s 2ms/sample - loss: 0.4469\n",
            "Epoch 59/200\n",
            "6/6 [==============================] - 0s 2ms/sample - loss: 0.4377\n",
            "Epoch 60/200\n",
            "6/6 [==============================] - 0s 2ms/sample - loss: 0.4287\n",
            "Epoch 61/200\n",
            "6/6 [==============================] - 0s 2ms/sample - loss: 0.4199\n",
            "Epoch 62/200\n",
            "6/6 [==============================] - 0s 2ms/sample - loss: 0.4112\n",
            "Epoch 63/200\n",
            "6/6 [==============================] - 0s 2ms/sample - loss: 0.4028\n",
            "Epoch 64/200\n",
            "6/6 [==============================] - 0s 2ms/sample - loss: 0.3945\n",
            "Epoch 65/200\n",
            "6/6 [==============================] - 0s 2ms/sample - loss: 0.3864\n",
            "Epoch 66/200\n",
            "6/6 [==============================] - 0s 2ms/sample - loss: 0.3785\n",
            "Epoch 67/200\n",
            "6/6 [==============================] - 0s 2ms/sample - loss: 0.3707\n",
            "Epoch 68/200\n",
            "6/6 [==============================] - 0s 2ms/sample - loss: 0.3631\n",
            "Epoch 69/200\n",
            "6/6 [==============================] - 0s 2ms/sample - loss: 0.3556\n",
            "Epoch 70/200\n",
            "6/6 [==============================] - 0s 2ms/sample - loss: 0.3483\n",
            "Epoch 71/200\n",
            "6/6 [==============================] - 0s 2ms/sample - loss: 0.3412\n",
            "Epoch 72/200\n",
            "6/6 [==============================] - 0s 2ms/sample - loss: 0.3342\n",
            "Epoch 73/200\n",
            "6/6 [==============================] - 0s 2ms/sample - loss: 0.3273\n",
            "Epoch 74/200\n",
            "6/6 [==============================] - 0s 2ms/sample - loss: 0.3206\n",
            "Epoch 75/200\n",
            "6/6 [==============================] - 0s 2ms/sample - loss: 0.3140\n",
            "Epoch 76/200\n",
            "6/6 [==============================] - 0s 2ms/sample - loss: 0.3075\n",
            "Epoch 77/200\n",
            "6/6 [==============================] - 0s 2ms/sample - loss: 0.3012\n",
            "Epoch 78/200\n",
            "6/6 [==============================] - 0s 2ms/sample - loss: 0.2950\n",
            "Epoch 79/200\n",
            "6/6 [==============================] - 0s 2ms/sample - loss: 0.2890\n",
            "Epoch 80/200\n",
            "6/6 [==============================] - 0s 2ms/sample - loss: 0.2830\n",
            "Epoch 81/200\n",
            "6/6 [==============================] - 0s 2ms/sample - loss: 0.2772\n",
            "Epoch 82/200\n",
            "6/6 [==============================] - 0s 2ms/sample - loss: 0.2715\n",
            "Epoch 83/200\n",
            "6/6 [==============================] - 0s 2ms/sample - loss: 0.2660\n",
            "Epoch 84/200\n",
            "6/6 [==============================] - 0s 2ms/sample - loss: 0.2605\n",
            "Epoch 85/200\n",
            "6/6 [==============================] - 0s 2ms/sample - loss: 0.2551\n",
            "Epoch 86/200\n",
            "6/6 [==============================] - 0s 2ms/sample - loss: 0.2499\n",
            "Epoch 87/200\n",
            "6/6 [==============================] - 0s 2ms/sample - loss: 0.2448\n",
            "Epoch 88/200\n",
            "6/6 [==============================] - 0s 2ms/sample - loss: 0.2397\n",
            "Epoch 89/200\n",
            "6/6 [==============================] - 0s 2ms/sample - loss: 0.2348\n",
            "Epoch 90/200\n",
            "6/6 [==============================] - 0s 2ms/sample - loss: 0.2300\n",
            "Epoch 91/200\n",
            "6/6 [==============================] - 0s 2ms/sample - loss: 0.2253\n",
            "Epoch 92/200\n",
            "6/6 [==============================] - 0s 2ms/sample - loss: 0.2206\n",
            "Epoch 93/200\n",
            "6/6 [==============================] - 0s 2ms/sample - loss: 0.2161\n",
            "Epoch 94/200\n",
            "6/6 [==============================] - 0s 2ms/sample - loss: 0.2117\n",
            "Epoch 95/200\n",
            "6/6 [==============================] - 0s 2ms/sample - loss: 0.2073\n",
            "Epoch 96/200\n",
            "6/6 [==============================] - 0s 2ms/sample - loss: 0.2031\n",
            "Epoch 97/200\n",
            "6/6 [==============================] - 0s 3ms/sample - loss: 0.1989\n",
            "Epoch 98/200\n",
            "6/6 [==============================] - 0s 2ms/sample - loss: 0.1948\n",
            "Epoch 99/200\n",
            "6/6 [==============================] - 0s 2ms/sample - loss: 0.1908\n",
            "Epoch 100/200\n",
            "6/6 [==============================] - 0s 2ms/sample - loss: 0.1869\n",
            "Epoch 101/200\n",
            "6/6 [==============================] - 0s 2ms/sample - loss: 0.1830\n",
            "Epoch 102/200\n",
            "6/6 [==============================] - 0s 3ms/sample - loss: 0.1793\n",
            "Epoch 103/200\n",
            "6/6 [==============================] - 0s 2ms/sample - loss: 0.1756\n",
            "Epoch 104/200\n",
            "6/6 [==============================] - 0s 2ms/sample - loss: 0.1720\n",
            "Epoch 105/200\n",
            "6/6 [==============================] - 0s 2ms/sample - loss: 0.1685\n",
            "Epoch 106/200\n",
            "6/6 [==============================] - 0s 2ms/sample - loss: 0.1650\n",
            "Epoch 107/200\n",
            "6/6 [==============================] - 0s 2ms/sample - loss: 0.1616\n",
            "Epoch 108/200\n",
            "6/6 [==============================] - 0s 2ms/sample - loss: 0.1583\n",
            "Epoch 109/200\n",
            "6/6 [==============================] - 0s 2ms/sample - loss: 0.1550\n",
            "Epoch 110/200\n",
            "6/6 [==============================] - 0s 2ms/sample - loss: 0.1519\n",
            "Epoch 111/200\n",
            "6/6 [==============================] - 0s 2ms/sample - loss: 0.1487\n",
            "Epoch 112/200\n",
            "6/6 [==============================] - 0s 2ms/sample - loss: 0.1457\n",
            "Epoch 113/200\n",
            "6/6 [==============================] - 0s 2ms/sample - loss: 0.1427\n",
            "Epoch 114/200\n",
            "6/6 [==============================] - 0s 2ms/sample - loss: 0.1398\n",
            "Epoch 115/200\n",
            "6/6 [==============================] - 0s 2ms/sample - loss: 0.1369\n",
            "Epoch 116/200\n",
            "6/6 [==============================] - 0s 2ms/sample - loss: 0.1341\n",
            "Epoch 117/200\n",
            "6/6 [==============================] - 0s 2ms/sample - loss: 0.1313\n",
            "Epoch 118/200\n",
            "6/6 [==============================] - 0s 2ms/sample - loss: 0.1286\n",
            "Epoch 119/200\n",
            "6/6 [==============================] - 0s 2ms/sample - loss: 0.1260\n",
            "Epoch 120/200\n",
            "6/6 [==============================] - 0s 2ms/sample - loss: 0.1234\n",
            "Epoch 121/200\n",
            "6/6 [==============================] - 0s 2ms/sample - loss: 0.1209\n",
            "Epoch 122/200\n",
            "6/6 [==============================] - 0s 2ms/sample - loss: 0.1184\n",
            "Epoch 123/200\n",
            "6/6 [==============================] - 0s 2ms/sample - loss: 0.1159\n",
            "Epoch 124/200\n",
            "6/6 [==============================] - 0s 2ms/sample - loss: 0.1136\n",
            "Epoch 125/200\n",
            "6/6 [==============================] - 0s 2ms/sample - loss: 0.1112\n",
            "Epoch 126/200\n",
            "6/6 [==============================] - 0s 2ms/sample - loss: 0.1089\n",
            "Epoch 127/200\n",
            "6/6 [==============================] - 0s 2ms/sample - loss: 0.1067\n",
            "Epoch 128/200\n",
            "6/6 [==============================] - 0s 2ms/sample - loss: 0.1045\n",
            "Epoch 129/200\n",
            "6/6 [==============================] - 0s 2ms/sample - loss: 0.1024\n",
            "Epoch 130/200\n",
            "6/6 [==============================] - 0s 2ms/sample - loss: 0.1003\n",
            "Epoch 131/200\n",
            "6/6 [==============================] - 0s 2ms/sample - loss: 0.0982\n",
            "Epoch 132/200\n",
            "6/6 [==============================] - 0s 3ms/sample - loss: 0.0962\n",
            "Epoch 133/200\n",
            "6/6 [==============================] - 0s 2ms/sample - loss: 0.0942\n",
            "Epoch 134/200\n",
            "6/6 [==============================] - 0s 2ms/sample - loss: 0.0923\n",
            "Epoch 135/200\n",
            "6/6 [==============================] - 0s 2ms/sample - loss: 0.0904\n",
            "Epoch 136/200\n",
            "6/6 [==============================] - 0s 2ms/sample - loss: 0.0885\n",
            "Epoch 137/200\n",
            "6/6 [==============================] - 0s 2ms/sample - loss: 0.0867\n",
            "Epoch 138/200\n",
            "6/6 [==============================] - 0s 2ms/sample - loss: 0.0849\n",
            "Epoch 139/200\n",
            "6/6 [==============================] - 0s 2ms/sample - loss: 0.0832\n",
            "Epoch 140/200\n",
            "6/6 [==============================] - 0s 2ms/sample - loss: 0.0815\n",
            "Epoch 141/200\n",
            "6/6 [==============================] - 0s 2ms/sample - loss: 0.0798\n",
            "Epoch 142/200\n",
            "6/6 [==============================] - 0s 2ms/sample - loss: 0.0782\n",
            "Epoch 143/200\n",
            "6/6 [==============================] - 0s 2ms/sample - loss: 0.0766\n",
            "Epoch 144/200\n",
            "6/6 [==============================] - 0s 2ms/sample - loss: 0.0750\n",
            "Epoch 145/200\n",
            "6/6 [==============================] - 0s 2ms/sample - loss: 0.0734\n",
            "Epoch 146/200\n",
            "6/6 [==============================] - 0s 2ms/sample - loss: 0.0719\n",
            "Epoch 147/200\n",
            "6/6 [==============================] - 0s 2ms/sample - loss: 0.0705\n",
            "Epoch 148/200\n",
            "6/6 [==============================] - 0s 2ms/sample - loss: 0.0690\n",
            "Epoch 149/200\n",
            "6/6 [==============================] - 0s 2ms/sample - loss: 0.0676\n",
            "Epoch 150/200\n",
            "6/6 [==============================] - 0s 2ms/sample - loss: 0.0662\n",
            "Epoch 151/200\n",
            "6/6 [==============================] - 0s 2ms/sample - loss: 0.0648\n",
            "Epoch 152/200\n",
            "6/6 [==============================] - 0s 2ms/sample - loss: 0.0635\n",
            "Epoch 153/200\n",
            "6/6 [==============================] - 0s 2ms/sample - loss: 0.0622\n",
            "Epoch 154/200\n",
            "6/6 [==============================] - 0s 4ms/sample - loss: 0.0609\n",
            "Epoch 155/200\n",
            "6/6 [==============================] - 0s 2ms/sample - loss: 0.0597\n",
            "Epoch 156/200\n",
            "6/6 [==============================] - 0s 2ms/sample - loss: 0.0585\n",
            "Epoch 157/200\n",
            "6/6 [==============================] - 0s 2ms/sample - loss: 0.0573\n",
            "Epoch 158/200\n",
            "6/6 [==============================] - 0s 2ms/sample - loss: 0.0561\n",
            "Epoch 159/200\n",
            "6/6 [==============================] - 0s 2ms/sample - loss: 0.0549\n",
            "Epoch 160/200\n",
            "6/6 [==============================] - 0s 2ms/sample - loss: 0.0538\n",
            "Epoch 161/200\n",
            "6/6 [==============================] - 0s 2ms/sample - loss: 0.0527\n",
            "Epoch 162/200\n",
            "6/6 [==============================] - 0s 2ms/sample - loss: 0.0516\n",
            "Epoch 163/200\n",
            "6/6 [==============================] - 0s 2ms/sample - loss: 0.0505\n",
            "Epoch 164/200\n",
            "6/6 [==============================] - 0s 2ms/sample - loss: 0.0495\n",
            "Epoch 165/200\n",
            "6/6 [==============================] - 0s 2ms/sample - loss: 0.0485\n",
            "Epoch 166/200\n",
            "6/6 [==============================] - 0s 2ms/sample - loss: 0.0475\n",
            "Epoch 167/200\n",
            "6/6 [==============================] - 0s 2ms/sample - loss: 0.0465\n",
            "Epoch 168/200\n",
            "6/6 [==============================] - 0s 2ms/sample - loss: 0.0456\n",
            "Epoch 169/200\n",
            "6/6 [==============================] - 0s 2ms/sample - loss: 0.0446\n",
            "Epoch 170/200\n",
            "6/6 [==============================] - 0s 2ms/sample - loss: 0.0437\n",
            "Epoch 171/200\n",
            "6/6 [==============================] - 0s 2ms/sample - loss: 0.0428\n",
            "Epoch 172/200\n",
            "6/6 [==============================] - 0s 2ms/sample - loss: 0.0419\n",
            "Epoch 173/200\n",
            "6/6 [==============================] - 0s 2ms/sample - loss: 0.0411\n",
            "Epoch 174/200\n",
            "6/6 [==============================] - 0s 2ms/sample - loss: 0.0402\n",
            "Epoch 175/200\n",
            "6/6 [==============================] - 0s 2ms/sample - loss: 0.0394\n",
            "Epoch 176/200\n",
            "6/6 [==============================] - 0s 2ms/sample - loss: 0.0386\n",
            "Epoch 177/200\n",
            "6/6 [==============================] - 0s 2ms/sample - loss: 0.0378\n",
            "Epoch 178/200\n",
            "6/6 [==============================] - 0s 2ms/sample - loss: 0.0370\n",
            "Epoch 179/200\n",
            "6/6 [==============================] - 0s 3ms/sample - loss: 0.0363\n",
            "Epoch 180/200\n",
            "6/6 [==============================] - 0s 2ms/sample - loss: 0.0355\n",
            "Epoch 181/200\n",
            "6/6 [==============================] - 0s 2ms/sample - loss: 0.0348\n",
            "Epoch 182/200\n",
            "6/6 [==============================] - 0s 2ms/sample - loss: 0.0341\n",
            "Epoch 183/200\n",
            "6/6 [==============================] - 0s 2ms/sample - loss: 0.0334\n",
            "Epoch 184/200\n",
            "6/6 [==============================] - 0s 3ms/sample - loss: 0.0327\n",
            "Epoch 185/200\n",
            "6/6 [==============================] - 0s 2ms/sample - loss: 0.0320\n",
            "Epoch 186/200\n",
            "6/6 [==============================] - 0s 2ms/sample - loss: 0.0314\n",
            "Epoch 187/200\n",
            "6/6 [==============================] - 0s 2ms/sample - loss: 0.0307\n",
            "Epoch 188/200\n",
            "6/6 [==============================] - 0s 2ms/sample - loss: 0.0301\n",
            "Epoch 189/200\n",
            "6/6 [==============================] - 0s 2ms/sample - loss: 0.0295\n",
            "Epoch 190/200\n",
            "6/6 [==============================] - 0s 2ms/sample - loss: 0.0289\n",
            "Epoch 191/200\n",
            "6/6 [==============================] - 0s 2ms/sample - loss: 0.0283\n",
            "Epoch 192/200\n",
            "6/6 [==============================] - 0s 2ms/sample - loss: 0.0277\n",
            "Epoch 193/200\n",
            "6/6 [==============================] - 0s 2ms/sample - loss: 0.0271\n",
            "Epoch 194/200\n",
            "6/6 [==============================] - 0s 2ms/sample - loss: 0.0266\n",
            "Epoch 195/200\n",
            "6/6 [==============================] - 0s 2ms/sample - loss: 0.0260\n",
            "Epoch 196/200\n",
            "6/6 [==============================] - 0s 2ms/sample - loss: 0.0255\n",
            "Epoch 197/200\n",
            "6/6 [==============================] - 0s 3ms/sample - loss: 0.0250\n",
            "Epoch 198/200\n",
            "6/6 [==============================] - 0s 2ms/sample - loss: 0.0244\n",
            "Epoch 199/200\n",
            "6/6 [==============================] - 0s 2ms/sample - loss: 0.0239\n",
            "Epoch 200/200\n",
            "6/6 [==============================] - 0s 2ms/sample - loss: 0.0235\n"
          ],
          "name": "stdout"
        },
        {
          "output_type": "execute_result",
          "data": {
            "text/plain": [
              "<tensorflow.python.keras.callbacks.History at 0x7fbbf6b1c080>"
            ]
          },
          "metadata": {
            "tags": []
          },
          "execution_count": 13
        }
      ]
    },
    {
      "cell_type": "code",
      "metadata": {
        "id": "3oNhW3jNZXuv",
        "colab_type": "code",
        "colab": {
          "base_uri": "https://localhost:8080/",
          "height": 107
        },
        "outputId": "ca3f9319-0340-49f8-ccfc-e50bc0086388"
      },
      "source": [
        "export_dir = 'saved_model/1'\n",
        "tf.saved_model.save(model, export_dir)"
      ],
      "execution_count": 14,
      "outputs": [
        {
          "output_type": "stream",
          "text": [
            "WARNING:tensorflow:From /tensorflow-2.0.0/python3.6/tensorflow_core/python/ops/resource_variable_ops.py:1781: calling BaseResourceVariable.__init__ (from tensorflow.python.ops.resource_variable_ops) with constraint is deprecated and will be removed in a future version.\n",
            "Instructions for updating:\n",
            "If using Keras pass *_constraint arguments to layers.\n",
            "INFO:tensorflow:Assets written to: saved_model/1/assets\n"
          ],
          "name": "stdout"
        }
      ]
    },
    {
      "cell_type": "code",
      "metadata": {
        "id": "5-Se4hUqc8Qo",
        "colab_type": "code",
        "colab": {}
      },
      "source": [
        "# Convert the model.\n",
        "converter = tf.lite.TFLiteConverter.from_saved_model(export_dir)\n",
        "tflite_model = converter.convert()\n"
      ],
      "execution_count": 0,
      "outputs": []
    },
    {
      "cell_type": "code",
      "metadata": {
        "id": "suoqi9xhyKUO",
        "colab_type": "code",
        "colab": {
          "base_uri": "https://localhost:8080/",
          "height": 35
        },
        "outputId": "79e8b3e6-4930-4b53-d9cc-457d5f489604"
      },
      "source": [
        "tflite_model_file = pathlib.Path('model.tflite')\n",
        "tflite_model_file.write_bytes(tflite_model)"
      ],
      "execution_count": 16,
      "outputs": [
        {
          "output_type": "execute_result",
          "data": {
            "text/plain": [
              "780"
            ]
          },
          "metadata": {
            "tags": []
          },
          "execution_count": 16
        }
      ]
    },
    {
      "cell_type": "code",
      "metadata": {
        "id": "_-oMJckTybkO",
        "colab_type": "code",
        "colab": {}
      },
      "source": [
        "# Load TFLite model and allocate tensors.\n",
        "interpreter = tf.lite.Interpreter(model_content=tflite_model)\n",
        "interpreter.allocate_tensors()\n",
        "\n",
        "# Get input and output tensors.\n",
        "input_details = interpreter.get_input_details()\n",
        "output_details = interpreter.get_output_details()"
      ],
      "execution_count": 0,
      "outputs": []
    },
    {
      "cell_type": "code",
      "metadata": {
        "id": "hX8Foj12yife",
        "colab_type": "code",
        "colab": {}
      },
      "source": [
        "# Test the TensorFlow Lite model on random input data.\n",
        "input_shape = input_details[0]['shape']\n",
        "inputs, outputs = [], []\n",
        "for _ in range(100):\n",
        "  input_data = np.array(np.random.random_sample(input_shape), dtype=np.float32)\n",
        "  interpreter.set_tensor(input_details[0]['index'], input_data)\n",
        "\n",
        "  interpreter.invoke()\n",
        "  tflite_results = interpreter.get_tensor(output_details[0]['index'])\n",
        "\n",
        "  # Test the TensorFlow model on random input data.\n",
        "  tf_results = model(tf.constant(input_data))\n",
        "  output_data = np.array(tf_results)\n",
        "  \n",
        "  inputs.append(input_data[0][0])\n",
        "  outputs.append(output_data[0][0])"
      ],
      "execution_count": 0,
      "outputs": []
    },
    {
      "cell_type": "markdown",
      "metadata": {
        "id": "v9zRCyNhynz7",
        "colab_type": "text"
      },
      "source": [
        "###Let's see our model"
      ]
    },
    {
      "cell_type": "code",
      "metadata": {
        "id": "0O_ApRtOytAb",
        "colab_type": "code",
        "colab": {
          "base_uri": "https://localhost:8080/",
          "height": 265
        },
        "outputId": "f9acdcaf-d927-40b5-e56b-a9923e17bf61"
      },
      "source": [
        "plt.plot(inputs, outputs, 'r')\n",
        "plt.show()"
      ],
      "execution_count": 19,
      "outputs": [
        {
          "output_type": "display_data",
          "data": {
            "image/png": "[encoded data removed]",
            "text/plain": [
              "<Figure size 432x288 with 1 Axes>"
            ]
          },
          "metadata": {
            "tags": []
          }
        }
      ]
    },
    {
      "cell_type": "markdown",
      "metadata": {
        "id": "RHbyEVoey2cc",
        "colab_type": "text"
      },
      "source": [
        "Download the model"
      ]
    },
    {
      "cell_type": "code",
      "metadata": {
        "id": "i-mjuJL1zP9u",
        "colab_type": "code",
        "colab": {}
      },
      "source": [
        "try:\n",
        "  from google.colab import files\n",
        "  files.download(tflite_model_file)\n",
        "except:\n",
        "  pass"
      ],
      "execution_count": 0,
      "outputs": []
    },
    {
      "cell_type": "markdown",
      "metadata": {
        "id": "s4gtirs0yJ_w",
        "colab_type": "text"
      },
      "source": [
        ""
      ]
    },
    {
      "cell_type": "markdown",
      "metadata": {
        "id": "w3tQAv_8ZXuz",
        "colab_type": "text"
      },
      "source": [
        "## Computing gradients with GradientTape"
      ]
    },
    {
      "cell_type": "markdown",
      "metadata": {
        "id": "P74m_hlGZXu1",
        "colab_type": "text"
      },
      "source": [
        "Oh, and there's another big difference with Numpy: you can automatically retrieve the gradient of any differentiable expression.\n",
        "Just open a GradientTape, start \"watching\" a tensor via tape.watch(), and compose a differentiable expression using this tensor as input:"
      ]
    },
    {
      "cell_type": "code",
      "metadata": {
        "id": "cFYQJ2bdZXu2",
        "colab_type": "code",
        "colab": {
          "base_uri": "https://localhost:8080/",
          "height": 69
        },
        "outputId": "a3b7b5cc-3d94-4a22-df02-3ccc863f2562"
      },
      "source": [
        "a = tf.random.normal(shape=(2, 2))\n",
        "b = tf.random.normal(shape=(2, 2))\n",
        "\n",
        "with tf.GradientTape() as tape:\n",
        "    tape.watch(a)  # Start recording the history of operations applied to `a`\n",
        "    c = tf.sqrt(tf.square(a) + tf.square(b))  # Do some math using `a`\n",
        "  # What's the gradient of `c` with respect to `a`?\n",
        "    dc_da = tape.gradient(c, a)\n",
        "print(dc_da)"
      ],
      "execution_count": 22,
      "outputs": [
        {
          "output_type": "stream",
          "text": [
            "tf.Tensor(\n",
            "[[-0.08683333  0.5939565 ]\n",
            " [ 0.49717274 -0.9993805 ]], shape=(2, 2), dtype=float32)\n"
          ],
          "name": "stdout"
        }
      ]
    },
    {
      "cell_type": "markdown",
      "metadata": {
        "id": "sMP1OI42ZXu6",
        "colab_type": "text"
      },
      "source": [
        "By default, variables are watched automatically, so you don't need to manually watch them:"
      ]
    },
    {
      "cell_type": "code",
      "metadata": {
        "id": "Ju-BxTt8ZXu7",
        "colab_type": "code",
        "colab": {
          "base_uri": "https://localhost:8080/",
          "height": 69
        },
        "outputId": "119f285b-1215-4391-8cc0-6d3bf98e51fd"
      },
      "source": [
        "a = tf.Variable(a)\n",
        "\n",
        "with tf.GradientTape() as tape:\n",
        "    c = tf.sqrt(tf.square(a) + tf.square(b))\n",
        "    dc_da = tape.gradient(c, a)\n",
        "print(dc_da)"
      ],
      "execution_count": 23,
      "outputs": [
        {
          "output_type": "stream",
          "text": [
            "tf.Tensor(\n",
            "[[-0.08683333  0.5939565 ]\n",
            " [ 0.49717274 -0.9993805 ]], shape=(2, 2), dtype=float32)\n"
          ],
          "name": "stdout"
        }
      ]
    },
    {
      "cell_type": "markdown",
      "metadata": {
        "id": "fp2TCYN3ZXu-",
        "colab_type": "text"
      },
      "source": [
        "You can also compute higher-order derivatives by nesting tapes:"
      ]
    },
    {
      "cell_type": "code",
      "metadata": {
        "id": "eZV0L0DjZXu_",
        "colab_type": "code",
        "colab": {
          "base_uri": "https://localhost:8080/",
          "height": 69
        },
        "outputId": "f9f8a189-f32a-4739-e860-1d9602102d06"
      },
      "source": [
        "with tf.GradientTape() as outer_tape:\n",
        "    with tf.GradientTape() as tape:\n",
        "      c = tf.sqrt(tf.square(a) + tf.square(b))\n",
        "      dc_da = tape.gradient(c, a)\n",
        "      d2c_da2 = outer_tape.gradient(dc_da, a)\n",
        "print(d2c_da2)"
      ],
      "execution_count": 25,
      "outputs": [
        {
          "output_type": "stream",
          "text": [
            "tf.Tensor(\n",
            "[[8.0265689e-01 5.5767441e-01]\n",
            " [1.1933215e+00 6.3484907e-04]], shape=(2, 2), dtype=float32)\n"
          ],
          "name": "stdout"
        }
      ]
    },
    {
      "cell_type": "markdown",
      "metadata": {
        "id": "bkFchV2WZXvD",
        "colab_type": "text"
      },
      "source": [
        "## An end-to-end example: linear regression"
      ]
    },
    {
      "cell_type": "markdown",
      "metadata": {
        "id": "h1TtPw6tZXvF",
        "colab_type": "text"
      },
      "source": [
        "TensorFlow is a Numpy-like library that is GPU or TPU accelerated, with automatic differentiation. Time for an end-to-end example: let's implement a linear regression, the FizzBuzz of Machine Learning. \n",
        "\n",
        "For the sake of demonstration, we won't use any of the higher-level Keras components like `Layer` or `MeanSquaredError`. Just basic ops."
      ]
    },
    {
      "cell_type": "code",
      "metadata": {
        "id": "yuT94FZ1ZXvH",
        "colab_type": "code",
        "colab": {}
      },
      "source": [
        "input_dim = 2\n",
        "output_dim = 1\n",
        "learning_rate = 0.01\n",
        "\n",
        "# This is our weight matrix\n",
        "w = tf.Variable(tf.random.uniform(shape=(input_dim, output_dim)))\n",
        "# This is our bias vector\n",
        "b = tf.Variable(tf.zeros(shape=(output_dim,)))\n",
        "\n",
        "def compute_predictions(features):\n",
        "    return tf.matmul(features, w) + b\n",
        "\n",
        "def compute_loss(labels, predictions):\n",
        "    return tf.reduce_mean(tf.square(labels - predictions))\n",
        "\n",
        "def train_on_batch(x, y):\n",
        "    with tf.GradientTape() as tape:\n",
        "      predictions = compute_predictions(x)\n",
        "      loss = compute_loss(y, predictions)\n",
        "    # Note that `tape.gradient` works with a list as well (w, b).\n",
        "      dloss_dw, dloss_db = tape.gradient(loss, [w, b])\n",
        "      w.assign_sub(learning_rate * dloss_dw)\n",
        "      b.assign_sub(learning_rate * dloss_db)\n",
        "    return loss"
      ],
      "execution_count": 0,
      "outputs": []
    },
    {
      "cell_type": "markdown",
      "metadata": {
        "id": "fgrS18m8ZXvT",
        "colab_type": "text"
      },
      "source": [
        "Let's generate some artificial data to demonstrate our model:"
      ]
    },
    {
      "cell_type": "code",
      "metadata": {
        "id": "PFSNa3UNZXvV",
        "colab_type": "code",
        "colab": {
          "base_uri": "https://localhost:8080/",
          "height": 283
        },
        "outputId": "c130f02e-950e-48cd-f762-c367baab3b88"
      },
      "source": [
        "import numpy as np\n",
        "import random\n",
        "import matplotlib.pyplot as plt\n",
        "%matplotlib inline\n",
        "\n",
        "# Prepare a dataset.\n",
        "num_samples = 10000\n",
        "negative_samples = np.random.multivariate_normal(\n",
        "    mean=[0, 3], cov=[[1, 0.5],[0.5, 1]], size=num_samples)\n",
        "positive_samples = np.random.multivariate_normal(\n",
        "    mean=[3, 0], cov=[[1, 0.5],[0.5, 1]], size=num_samples)\n",
        "features = np.vstack((negative_samples, positive_samples)).astype(np.float32)\n",
        "labels = np.vstack((np.zeros((num_samples, 1), dtype='float32'),\n",
        "                    np.ones((num_samples, 1), dtype='float32')))\n",
        "\n",
        "plt.scatter(features[:, 0], features[:, 1], c=labels[:, 0])"
      ],
      "execution_count": 28,
      "outputs": [
        {
          "output_type": "execute_result",
          "data": {
            "text/plain": [
              "<matplotlib.collections.PathCollection at 0x7fbbf54bde48>"
            ]
          },
          "metadata": {
            "tags": []
          },
          "execution_count": 28
        },
        {
          "output_type": "display_data",
          "data": {
            "image/png": "[encoded data removed]",
            "text/plain": [
              "<Figure size 432x288 with 1 Axes>"
            ]
          },
          "metadata": {
            "tags": []
          }
        }
      ]
    },
    {
      "cell_type": "code",
      "metadata": {
        "id": "5fTGDF4dZXvb",
        "colab_type": "code",
        "colab": {}
      },
      "source": [
        "Now let's train our linear regression by iterating over batch-by-batch over the data and repeatedly calling train_on_batch:"
      ],
      "execution_count": 0,
      "outputs": []
    },
    {
      "cell_type": "code",
      "metadata": {
        "id": "tOxv9nwtZXvd",
        "colab_type": "code",
        "colab": {
          "base_uri": "https://localhost:8080/",
          "height": 35
        },
        "outputId": "aee13cdf-57ee-4e9d-f8bb-edd7a5f3ea20"
      },
      "source": [
        "# Shuffle the data.\n",
        "indices = np.random.permutation(len(features))\n",
        "features = features[indices]\n",
        "labels = labels[indices]\n",
        "\n",
        "# Create a tf.data.Dataset object for easy batched iteration\n",
        "dataset = tf.data.Dataset.from_tensor_slices((features, labels))\n",
        "dataset = dataset.shuffle(buffer_size=1024).batch(256)\n",
        "\n",
        "for epoch in range(10):\n",
        "    for step, (x, y) in enumerate(dataset):\n",
        "      loss = train_on_batch(x, y)\n",
        "print('Epoch %d: last batch loss = %.4f' % (epoch, float(loss)))"
      ],
      "execution_count": 30,
      "outputs": [
        {
          "output_type": "stream",
          "text": [
            "Epoch 9: last batch loss = 0.0180\n"
          ],
          "name": "stdout"
        }
      ]
    },
    {
      "cell_type": "markdown",
      "metadata": {
        "id": "9UbNEZRGRvSC",
        "colab_type": "text"
      },
      "source": [
        "Here's how our model performs:"
      ]
    },
    {
      "cell_type": "code",
      "metadata": {
        "id": "K9o8XZjHZXvj",
        "colab_type": "code",
        "colab": {
          "base_uri": "https://localhost:8080/",
          "height": 283
        },
        "outputId": "6fb7fb56-60f6-4138-d403-b233a2c96030"
      },
      "source": [
        "predictions = compute_predictions(features)\n",
        "plt.scatter(features[:, 0], features[:, 1], c=predictions[:, 0] > 0.5)"
      ],
      "execution_count": 31,
      "outputs": [
        {
          "output_type": "execute_result",
          "data": {
            "text/plain": [
              "<matplotlib.collections.PathCollection at 0x7fbbf542b0f0>"
            ]
          },
          "metadata": {
            "tags": []
          },
          "execution_count": 31
        },
        {
          "output_type": "display_data",
          "data": {
            "image/png": "[encoded data removed]",
            "text/plain": [
              "<Figure size 432x288 with 1 Axes>"
            ]
          },
          "metadata": {
            "tags": []
          }
        }
      ]
    },
    {
      "cell_type": "markdown",
      "metadata": {
        "id": "OcJZGCBOZXvo",
        "colab_type": "text"
      },
      "source": [
        "## Making it fast with `tf.function`"
      ]
    },
    {
      "cell_type": "markdown",
      "metadata": {
        "id": "xUHqygAEZXvp",
        "colab_type": "text"
      },
      "source": [
        "But how fast is our current code running?"
      ]
    },
    {
      "cell_type": "code",
      "metadata": {
        "id": "of1wkZtRZXvq",
        "colab_type": "code",
        "colab": {
          "base_uri": "https://localhost:8080/",
          "height": 35
        },
        "outputId": "f16215a3-eb51-4865-80ac-bbf622c0072a"
      },
      "source": [
        "import time\n",
        "\n",
        "t0 = time.time()\n",
        "for epoch in range(20):\n",
        "    for step, (x, y) in enumerate(dataset):\n",
        "      loss = train_on_batch(x, y)\n",
        "      t_end = time.time() - t0\n",
        "print('Time per epoch: %.3f s' % (t_end / 20,))\n"
      ],
      "execution_count": 33,
      "outputs": [
        {
          "output_type": "stream",
          "text": [
            "Time per epoch: 0.134 s\n"
          ],
          "name": "stdout"
        }
      ]
    },
    {
      "cell_type": "markdown",
      "metadata": {
        "id": "LNgKrD_vZXvs",
        "colab_type": "text"
      },
      "source": [
        "Let's compile the training function into a static graph. Literally all we need to do is add the tf.function decorator on it:"
      ]
    },
    {
      "cell_type": "code",
      "metadata": {
        "id": "eV_Zb9cYZXvt",
        "colab_type": "code",
        "colab": {}
      },
      "source": [
        "@tf.function\n",
        "def train_on_batch(x, y):\n",
        "    with tf.GradientTape() as tape:\n",
        "      predictions = compute_predictions(x)\n",
        "      loss = compute_loss(y, predictions)\n",
        "      dloss_dw, dloss_db = tape.gradient(loss, [w, b])\n",
        "      w.assign_sub(learning_rate * dloss_dw)\n",
        "      b.assign_sub(learning_rate * dloss_db)\n",
        "    return loss"
      ],
      "execution_count": 0,
      "outputs": []
    },
    {
      "cell_type": "markdown",
      "metadata": {
        "id": "sYL68oxUZXvw",
        "colab_type": "text"
      },
      "source": [
        "Let's try this again:"
      ]
    },
    {
      "cell_type": "code",
      "metadata": {
        "id": "9t_0rKm4ZXvx",
        "colab_type": "code",
        "colab": {
          "base_uri": "https://localhost:8080/",
          "height": 35
        },
        "outputId": "1d7954b3-00f5-45ee-ec45-2dfe7060e8cc"
      },
      "source": [
        "t0 = time.time()\n",
        "for epoch in range(20):\n",
        "    for step, (x, y) in enumerate(dataset):\n",
        "      loss = train_on_batch(x, y)\n",
        "      t_end = time.time() - t0\n",
        "print('Time per epoch: %.3f s' % (t_end / 20,))"
      ],
      "execution_count": 37,
      "outputs": [
        {
          "output_type": "stream",
          "text": [
            "Time per epoch: 0.084 s\n"
          ],
          "name": "stdout"
        }
      ]
    },
    {
      "cell_type": "markdown",
      "metadata": {
        "id": "wdLZKg7iSnVC",
        "colab_type": "text"
      },
      "source": [
        "# Thank you!!"
      ]
    },
    {
      "cell_type": "code",
      "metadata": {
        "id": "ES714fHXS0h4",
        "colab_type": "code",
        "colab": {}
      },
      "source": [
        ""
      ],
      "execution_count": 0,
      "outputs": []
    }
  ]
}